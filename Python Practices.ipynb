{
 "cells": [
  {
   "cell_type": "markdown",
   "id": "d919ea74",
   "metadata": {},
   "source": [
    "# Print"
   ]
  },
  {
   "cell_type": "code",
   "execution_count": 1,
   "id": "94b8363d",
   "metadata": {
    "scrolled": true
   },
   "outputs": [
    {
     "name": "stdout",
     "output_type": "stream",
     "text": [
      "fahad and saad is brother\n"
     ]
    }
   ],
   "source": [
    "print(\"fahad and saad is brother\")"
   ]
  },
  {
   "cell_type": "code",
   "execution_count": 2,
   "id": "702b19a6",
   "metadata": {},
   "outputs": [
    {
     "name": "stdout",
     "output_type": "stream",
     "text": [
      "fahad***saad***hammad***ellaf***mama***papa\n"
     ]
    }
   ],
   "source": [
    "print(\"fahad\", \"saad\", sep='***', end= '***')\n",
    "print(\"hammad\", \"ellaf\",sep='***', end= '***')\n",
    "print(\"mama\", \"papa\", sep=\"***\")"
   ]
  },
  {
   "cell_type": "code",
   "execution_count": 3,
   "id": "b334e1e8",
   "metadata": {
    "scrolled": true
   },
   "outputs": [
    {
     "name": "stdout",
     "output_type": "stream",
     "text": [
      "15\n"
     ]
    }
   ],
   "source": [
    "a = 5\n",
    "b = 10\n",
    "c= a+b\n",
    "print(c)"
   ]
  },
  {
   "cell_type": "code",
   "execution_count": 4,
   "id": "0388902c",
   "metadata": {},
   "outputs": [
    {
     "data": {
      "text/plain": [
       "'fahadmanzoor'"
      ]
     },
     "execution_count": 4,
     "metadata": {},
     "output_type": "execute_result"
    }
   ],
   "source": [
    "a= 'fahad'\n",
    "b = 'manzoor'\n",
    "c= a+b\n",
    "c"
   ]
  },
  {
   "cell_type": "code",
   "execution_count": 5,
   "id": "cf079b16",
   "metadata": {},
   "outputs": [
    {
     "data": {
      "text/plain": [
       "12"
      ]
     },
     "execution_count": 5,
     "metadata": {},
     "output_type": "execute_result"
    }
   ],
   "source": [
    "a = 6\n",
    "b = a + 6\n",
    "b"
   ]
  },
  {
   "cell_type": "markdown",
   "id": "0f52cedd",
   "metadata": {},
   "source": [
    "# commenting"
   ]
  },
  {
   "cell_type": "code",
   "execution_count": 6,
   "id": "7deeb34a",
   "metadata": {},
   "outputs": [],
   "source": [
    "# is trha likhta ha commenting"
   ]
  },
  {
   "cell_type": "code",
   "execution_count": 7,
   "id": "8ed2dfd3",
   "metadata": {},
   "outputs": [
    {
     "data": {
      "text/plain": [
       "'\\n (agr 2 line ma kuch explain krna ho or wo single line ma show ho to asa likhta ha )\\n'"
      ]
     },
     "execution_count": 7,
     "metadata": {},
     "output_type": "execute_result"
    }
   ],
   "source": [
    "'''\n",
    " (agr 2 line ma kuch explain krna ho or wo single line ma show ho to asa likhta ha )\n",
    "'''"
   ]
  },
  {
   "cell_type": "markdown",
   "id": "b2d634a0",
   "metadata": {},
   "source": [
    "# Data Types"
   ]
  },
  {
   "cell_type": "code",
   "execution_count": 8,
   "id": "557b35aa",
   "metadata": {},
   "outputs": [
    {
     "ename": "SyntaxError",
     "evalue": "cannot assign to literal (2154942428.py, line 1)",
     "output_type": "error",
     "traceback": [
      "\u001b[1;36m  Input \u001b[1;32mIn [8]\u001b[1;36m\u001b[0m\n\u001b[1;33m    5 =        integer == int\u001b[0m\n\u001b[1;37m    ^\u001b[0m\n\u001b[1;31mSyntaxError\u001b[0m\u001b[1;31m:\u001b[0m cannot assign to literal\n"
     ]
    }
   ],
   "source": [
    "5 =        integer == int\n",
    "5.5 =      float\n",
    "'fahad'=    string == str\n",
    "\"fahad\" =   string == str\n",
    "True    =   Boolean == bool\n",
    "False   =   Boolen  == bool\n"
   ]
  },
  {
   "cell_type": "markdown",
   "id": "e17251ef",
   "metadata": {},
   "source": [
    "# Average "
   ]
  },
  {
   "cell_type": "code",
   "execution_count": null,
   "id": "39477485",
   "metadata": {},
   "outputs": [],
   "source": [
    "var1 = 76\n",
    "var2 = 87\n",
    "var3 = 78\n",
    "\n",
    "# calculate average\n",
    "\n",
    "average = (var1 + var2 +var3) / 3\n",
    "print(\"My Average is \", average)"
   ]
  },
  {
   "cell_type": "markdown",
   "id": "3a9f8424",
   "metadata": {},
   "source": [
    "# Percentage"
   ]
  },
  {
   "cell_type": "code",
   "execution_count": null,
   "id": "d9ae60e6",
   "metadata": {},
   "outputs": [],
   "source": [
    "var4 = 87\n",
    "var5 = 79\n",
    "var6 = 94\n",
    "\n",
    "obtain_mark = var4 + var5 + var6 \n",
    "obtain_mark \n",
    "\n",
    "total_mark = 300\n",
    "\n",
    "# calculate percentage\n",
    "\n",
    "\n",
    "percentage = (obtain_mark / total_mark) *100\n",
    "percentage\n",
    "\n",
    "\n"
   ]
  },
  {
   "cell_type": "markdown",
   "id": "1aa9566c",
   "metadata": {},
   "source": [
    "# Operators"
   ]
  },
  {
   "cell_type": "code",
   "execution_count": null,
   "id": "32885458",
   "metadata": {},
   "outputs": [],
   "source": [
    "print(3+1)\n",
    "print(3-1)\n",
    "print(3*1)\n",
    "print(3/1)\n",
    "print(3//1)\n",
    "print(3%1)\n",
    "print(2**3)"
   ]
  },
  {
   "cell_type": "code",
   "execution_count": null,
   "id": "1ba19353",
   "metadata": {},
   "outputs": [],
   "source": [
    "print(5 / 3)    # simple operators\n",
    "print(5 // 3)   # flood division"
   ]
  },
  {
   "cell_type": "code",
   "execution_count": null,
   "id": "b197062e",
   "metadata": {},
   "outputs": [],
   "source": [
    "print(True and False)"
   ]
  },
  {
   "cell_type": "code",
   "execution_count": null,
   "id": "d4b8fba5",
   "metadata": {},
   "outputs": [],
   "source": [
    "c = 5\n",
    "print(c ** 5)"
   ]
  },
  {
   "cell_type": "code",
   "execution_count": null,
   "id": "88381a69",
   "metadata": {},
   "outputs": [],
   "source": [
    "print(9 % 3)\n",
    "print(9 % 2)\n",
    "print(8 % 2)"
   ]
  },
  {
   "cell_type": "markdown",
   "id": "78e38f18",
   "metadata": {},
   "source": [
    "# Tasks"
   ]
  },
  {
   "cell_type": "code",
   "execution_count": null,
   "id": "d61f152c",
   "metadata": {},
   "outputs": [],
   "source": [
    "# task 1\n",
    "\n",
    "print('fahad ' * 15)"
   ]
  },
  {
   "cell_type": "code",
   "execution_count": null,
   "id": "183fda96",
   "metadata": {},
   "outputs": [],
   "source": [
    "# task 2\n",
    "\n",
    "a = \"fahad\"\n",
    "b = \" manzoor\"\n",
    "c = a+b\n",
    "c"
   ]
  },
  {
   "cell_type": "code",
   "execution_count": null,
   "id": "6c84bb1c",
   "metadata": {},
   "outputs": [],
   "source": [
    "# task3 \n",
    "\n",
    "a =  3\n",
    "b = 5\n",
    "\n",
    "third = a/b\n",
    "print(third)\n",
    "\n",
    "third -= 15\n",
    "print(third)\n",
    "\n",
    "result = third // 5\n",
    "print(result)"
   ]
  },
  {
   "cell_type": "markdown",
   "id": "9d6a9a44",
   "metadata": {},
   "source": [
    "# Input"
   ]
  },
  {
   "cell_type": "code",
   "execution_count": 9,
   "id": "052ffa20",
   "metadata": {},
   "outputs": [
    {
     "ename": "KeyboardInterrupt",
     "evalue": "Interrupted by user",
     "output_type": "error",
     "traceback": [
      "\u001b[1;31m---------------------------------------------------------------------------\u001b[0m",
      "\u001b[1;31mKeyboardInterrupt\u001b[0m                         Traceback (most recent call last)",
      "Input \u001b[1;32mIn [9]\u001b[0m, in \u001b[0;36m<cell line: 1>\u001b[1;34m()\u001b[0m\n\u001b[1;32m----> 1\u001b[0m name \u001b[38;5;241m=\u001b[39m \u001b[38;5;28;43minput\u001b[39;49m\u001b[43m(\u001b[49m\u001b[38;5;124;43m\"\u001b[39;49m\u001b[38;5;124;43mwhat is your name\u001b[39;49m\u001b[38;5;124;43m\"\u001b[39;49m\u001b[43m)\u001b[49m\n\u001b[0;32m      2\u001b[0m name\n",
      "File \u001b[1;32m~\\anaconda3\\lib\\site-packages\\ipykernel\\kernelbase.py:1075\u001b[0m, in \u001b[0;36mKernel.raw_input\u001b[1;34m(self, prompt)\u001b[0m\n\u001b[0;32m   1071\u001b[0m \u001b[38;5;28;01mif\u001b[39;00m \u001b[38;5;129;01mnot\u001b[39;00m \u001b[38;5;28mself\u001b[39m\u001b[38;5;241m.\u001b[39m_allow_stdin:\n\u001b[0;32m   1072\u001b[0m     \u001b[38;5;28;01mraise\u001b[39;00m StdinNotImplementedError(\n\u001b[0;32m   1073\u001b[0m         \u001b[38;5;124m\"\u001b[39m\u001b[38;5;124mraw_input was called, but this frontend does not support input requests.\u001b[39m\u001b[38;5;124m\"\u001b[39m\n\u001b[0;32m   1074\u001b[0m     )\n\u001b[1;32m-> 1075\u001b[0m \u001b[38;5;28;01mreturn\u001b[39;00m \u001b[38;5;28;43mself\u001b[39;49m\u001b[38;5;241;43m.\u001b[39;49m\u001b[43m_input_request\u001b[49m\u001b[43m(\u001b[49m\n\u001b[0;32m   1076\u001b[0m \u001b[43m    \u001b[49m\u001b[38;5;28;43mstr\u001b[39;49m\u001b[43m(\u001b[49m\u001b[43mprompt\u001b[49m\u001b[43m)\u001b[49m\u001b[43m,\u001b[49m\n\u001b[0;32m   1077\u001b[0m \u001b[43m    \u001b[49m\u001b[38;5;28;43mself\u001b[39;49m\u001b[38;5;241;43m.\u001b[39;49m\u001b[43m_parent_ident\u001b[49m\u001b[43m[\u001b[49m\u001b[38;5;124;43m\"\u001b[39;49m\u001b[38;5;124;43mshell\u001b[39;49m\u001b[38;5;124;43m\"\u001b[39;49m\u001b[43m]\u001b[49m\u001b[43m,\u001b[49m\n\u001b[0;32m   1078\u001b[0m \u001b[43m    \u001b[49m\u001b[38;5;28;43mself\u001b[39;49m\u001b[38;5;241;43m.\u001b[39;49m\u001b[43mget_parent\u001b[49m\u001b[43m(\u001b[49m\u001b[38;5;124;43m\"\u001b[39;49m\u001b[38;5;124;43mshell\u001b[39;49m\u001b[38;5;124;43m\"\u001b[39;49m\u001b[43m)\u001b[49m\u001b[43m,\u001b[49m\n\u001b[0;32m   1079\u001b[0m \u001b[43m    \u001b[49m\u001b[43mpassword\u001b[49m\u001b[38;5;241;43m=\u001b[39;49m\u001b[38;5;28;43;01mFalse\u001b[39;49;00m\u001b[43m,\u001b[49m\n\u001b[0;32m   1080\u001b[0m \u001b[43m\u001b[49m\u001b[43m)\u001b[49m\n",
      "File \u001b[1;32m~\\anaconda3\\lib\\site-packages\\ipykernel\\kernelbase.py:1120\u001b[0m, in \u001b[0;36mKernel._input_request\u001b[1;34m(self, prompt, ident, parent, password)\u001b[0m\n\u001b[0;32m   1117\u001b[0m             \u001b[38;5;28;01mbreak\u001b[39;00m\n\u001b[0;32m   1118\u001b[0m \u001b[38;5;28;01mexcept\u001b[39;00m \u001b[38;5;167;01mKeyboardInterrupt\u001b[39;00m:\n\u001b[0;32m   1119\u001b[0m     \u001b[38;5;66;03m# re-raise KeyboardInterrupt, to truncate traceback\u001b[39;00m\n\u001b[1;32m-> 1120\u001b[0m     \u001b[38;5;28;01mraise\u001b[39;00m \u001b[38;5;167;01mKeyboardInterrupt\u001b[39;00m(\u001b[38;5;124m\"\u001b[39m\u001b[38;5;124mInterrupted by user\u001b[39m\u001b[38;5;124m\"\u001b[39m) \u001b[38;5;28;01mfrom\u001b[39;00m \u001b[38;5;28mNone\u001b[39m\n\u001b[0;32m   1121\u001b[0m \u001b[38;5;28;01mexcept\u001b[39;00m \u001b[38;5;167;01mException\u001b[39;00m:\n\u001b[0;32m   1122\u001b[0m     \u001b[38;5;28mself\u001b[39m\u001b[38;5;241m.\u001b[39mlog\u001b[38;5;241m.\u001b[39mwarning(\u001b[38;5;124m\"\u001b[39m\u001b[38;5;124mInvalid Message:\u001b[39m\u001b[38;5;124m\"\u001b[39m, exc_info\u001b[38;5;241m=\u001b[39m\u001b[38;5;28;01mTrue\u001b[39;00m)\n",
      "\u001b[1;31mKeyboardInterrupt\u001b[0m: Interrupted by user"
     ]
    }
   ],
   "source": [
    "name = input(\"what is your name\")\n",
    "name"
   ]
  },
  {
   "cell_type": "markdown",
   "id": "f46b1d47",
   "metadata": {},
   "source": [
    "Input function always takes input in form of string unless you manually define a data type for it. "
   ]
  },
  {
   "cell_type": "code",
   "execution_count": null,
   "id": "7353b273",
   "metadata": {},
   "outputs": [],
   "source": [
    "var = float(input('what is your current city tempreture : '))\n",
    "var"
   ]
  },
  {
   "cell_type": "code",
   "execution_count": null,
   "id": "0a47a227",
   "metadata": {},
   "outputs": [],
   "source": [
    "var1 = int(input())\n",
    "print(\"output\", var1)\n",
    "print(type(var1))\n"
   ]
  },
  {
   "cell_type": "code",
   "execution_count": null,
   "id": "e484a9fa",
   "metadata": {
    "scrolled": false
   },
   "outputs": [],
   "source": [
    "var2 = float(input())\n",
    "print(\"output\", var2)\n",
    "print(type(var2))"
   ]
  },
  {
   "cell_type": "code",
   "execution_count": null,
   "id": "f195ef47",
   "metadata": {},
   "outputs": [],
   "source": [
    "var5 = int(input())\n",
    "print(\"output\", var5)\n",
    "print(type(var5))\n"
   ]
  },
  {
   "cell_type": "code",
   "execution_count": null,
   "id": "842f807a",
   "metadata": {},
   "outputs": [],
   "source": []
  },
  {
   "cell_type": "code",
   "execution_count": null,
   "id": "55d24383",
   "metadata": {},
   "outputs": [],
   "source": []
  },
  {
   "cell_type": "code",
   "execution_count": null,
   "id": "0229a30d",
   "metadata": {},
   "outputs": [],
   "source": []
  },
  {
   "cell_type": "markdown",
   "id": "1898d952",
   "metadata": {},
   "source": [
    "# Type casting"
   ]
  },
  {
   "cell_type": "code",
   "execution_count": null,
   "id": "eea30971",
   "metadata": {
    "scrolled": true
   },
   "outputs": [],
   "source": [
    "a = 10.5\n",
    "a = int(a)\n",
    "print(a)\n",
    "print(type(a))\n"
   ]
  },
  {
   "cell_type": "code",
   "execution_count": null,
   "id": "4e089bf4",
   "metadata": {},
   "outputs": [],
   "source": [
    "b = '33.5'\n",
    "b = float(b)\n",
    "print(b)\n",
    "print(type(b))\n",
    "\n",
    "\n",
    "b = int(b)\n",
    "print(b)\n",
    "print(type(b))"
   ]
  },
  {
   "cell_type": "code",
   "execution_count": null,
   "id": "03d1768b",
   "metadata": {},
   "outputs": [],
   "source": [
    "c = 18.5\n",
    "c = int(c)\n",
    "print(int(c))\n",
    "print(type(c))\n"
   ]
  },
  {
   "cell_type": "markdown",
   "id": "f01f2242",
   "metadata": {},
   "source": [
    "# Conditional logical operators"
   ]
  },
  {
   "cell_type": "markdown",
   "id": "8e6d7320",
   "metadata": {},
   "source": [
    "equal to ---------------------- ==\n",
    "\n",
    "not equal to ------------------- !=\n",
    "\n",
    "less than ----------------------- <\n",
    "\n",
    "greater than---------------------->\n",
    "\n",
    "less than and equal to----------- <=\n",
    "\n",
    "greater than and equal to---------  >=\n",
    "\n",
    "\n",
    "\n",
    "\n",
    "\n",
    "\n",
    "\n",
    "\n"
   ]
  },
  {
   "cell_type": "code",
   "execution_count": null,
   "id": "f27e4c2b",
   "metadata": {},
   "outputs": [],
   "source": [
    "print(4 == 4)\n",
    "print(4 != 4)\n",
    "print(4 > 3)\n",
    "print(4 < 3)\n",
    "print(4 <= 5)\n",
    "print(4 >= 3)"
   ]
  },
  {
   "cell_type": "markdown",
   "id": "3e43e498",
   "metadata": {},
   "source": [
    "### if , elif and else condition"
   ]
  },
  {
   "cell_type": "code",
   "execution_count": null,
   "id": "33679d57",
   "metadata": {},
   "outputs": [],
   "source": [
    "if(5 > 4):\n",
    "    print(\"Theak Ha \")\n",
    "else:\n",
    "    (\"galat ha \")"
   ]
  },
  {
   "cell_type": "code",
   "execution_count": null,
   "id": "ab0a079b",
   "metadata": {},
   "outputs": [],
   "source": [
    "tempreture = float(input(\"Enter your current city tempreture : \"))\n",
    "\n",
    "if(tempreture < 15):\n",
    "    print(\"its cool\")\n",
    "elif((tempreture >= 15) and (tempreture <30)):\n",
    "    print(\"its moderate\")\n",
    "elif((tempreture >= 30) and (tempreture <40)):\n",
    "    print(\"its hot\")\n",
    "else:\n",
    "    print(\"so hot\")\n",
    "    "
   ]
  },
  {
   "cell_type": "markdown",
   "id": "4fdcf808",
   "metadata": {},
   "source": [
    "# Nested If"
   ]
  },
  {
   "cell_type": "code",
   "execution_count": null,
   "id": "0a35d426",
   "metadata": {},
   "outputs": [],
   "source": [
    "if( 5 > 6):\n",
    "    print(\"ok\")\n",
    "    if(8> 5):\n",
    "        print(\"not ok\")"
   ]
  },
  {
   "cell_type": "code",
   "execution_count": null,
   "id": "946f3cc9",
   "metadata": {},
   "outputs": [],
   "source": [
    "temp = float(input(\"enter your current city tempreture :\"))\n",
    "if(temp < 15):\n",
    "    if(temp > 15):\n",
    "        print(\"ok\")\n",
    "        \n",
    "\n",
    "\n",
    "\n",
    "\n",
    "    \n"
   ]
  },
  {
   "cell_type": "markdown",
   "id": "93303bf9",
   "metadata": {},
   "source": [
    "# Basic Data Structure in Python"
   ]
  },
  {
   "cell_type": "markdown",
   "id": "e67d5e0d",
   "metadata": {},
   "source": [
    "# List"
   ]
  },
  {
   "cell_type": "code",
   "execution_count": null,
   "id": "b520c69d",
   "metadata": {},
   "outputs": [],
   "source": [
    "lst = [\"fahad\",\"saad\",\"hammad\", \"arslan\",\"mama\",123, 654, \"carton\", 345, \"ok ha\"]"
   ]
  },
  {
   "cell_type": "code",
   "execution_count": null,
   "id": "f6962ce9",
   "metadata": {},
   "outputs": [],
   "source": [
    "lst"
   ]
  },
  {
   "cell_type": "code",
   "execution_count": null,
   "id": "37e98492",
   "metadata": {
    "scrolled": true
   },
   "outputs": [],
   "source": [
    "type(lst)"
   ]
  },
  {
   "cell_type": "code",
   "execution_count": null,
   "id": "75981a8d",
   "metadata": {},
   "outputs": [],
   "source": [
    "len(lst)"
   ]
  },
  {
   "cell_type": "code",
   "execution_count": null,
   "id": "dbb0abf7",
   "metadata": {},
   "outputs": [],
   "source": [
    "lst[0]"
   ]
  },
  {
   "cell_type": "code",
   "execution_count": null,
   "id": "95e5277e",
   "metadata": {},
   "outputs": [],
   "source": [
    "lst[4]"
   ]
  },
  {
   "cell_type": "code",
   "execution_count": null,
   "id": "900fefc7",
   "metadata": {},
   "outputs": [],
   "source": [
    "lst[-1]"
   ]
  },
  {
   "cell_type": "markdown",
   "id": "142de708",
   "metadata": {},
   "source": [
    "# slicing of index"
   ]
  },
  {
   "cell_type": "code",
   "execution_count": null,
   "id": "ca99d828",
   "metadata": {},
   "outputs": [],
   "source": [
    "lst[0: 11 ]"
   ]
  },
  {
   "cell_type": "code",
   "execution_count": null,
   "id": "5346378a",
   "metadata": {},
   "outputs": [],
   "source": [
    "lst[-5 : -1]"
   ]
  },
  {
   "cell_type": "code",
   "execution_count": null,
   "id": "e0630210",
   "metadata": {},
   "outputs": [],
   "source": [
    "nums = [0,1,2,3,4,5,6,7,8,9,10,11,12,13,14,15,16,17,18,19,20]\n",
    "nums"
   ]
  },
  {
   "cell_type": "code",
   "execution_count": null,
   "id": "cd7b9a3e",
   "metadata": {},
   "outputs": [],
   "source": [
    "nums[1 : -1 : 2]"
   ]
  },
  {
   "cell_type": "code",
   "execution_count": null,
   "id": "01ed0fcc",
   "metadata": {},
   "outputs": [],
   "source": [
    "nums[2: -1 :2]"
   ]
  },
  {
   "cell_type": "markdown",
   "id": "106df494",
   "metadata": {},
   "source": [
    "-------------------------------------******************---------------------------------------------"
   ]
  },
  {
   "cell_type": "code",
   "execution_count": null,
   "id": "b1d2f09a",
   "metadata": {},
   "outputs": [],
   "source": [
    "new = [5.5, 2, \"Facebook User\", [200, 300, 400]]\n",
    "new"
   ]
  },
  {
   "cell_type": "code",
   "execution_count": null,
   "id": "9bd6aa4b",
   "metadata": {},
   "outputs": [],
   "source": [
    "new[3][1]"
   ]
  },
  {
   "cell_type": "code",
   "execution_count": null,
   "id": "0c648b7f",
   "metadata": {},
   "outputs": [],
   "source": []
  },
  {
   "cell_type": "code",
   "execution_count": null,
   "id": "71ce53a6",
   "metadata": {},
   "outputs": [],
   "source": []
  },
  {
   "cell_type": "code",
   "execution_count": null,
   "id": "f3de6faa",
   "metadata": {},
   "outputs": [],
   "source": []
  },
  {
   "cell_type": "code",
   "execution_count": null,
   "id": "32dc0b2a",
   "metadata": {},
   "outputs": [],
   "source": []
  },
  {
   "cell_type": "markdown",
   "id": "8c8560b9",
   "metadata": {},
   "source": [
    "# Method of list "
   ]
  },
  {
   "cell_type": "code",
   "execution_count": null,
   "id": "7befa3c2",
   "metadata": {},
   "outputs": [],
   "source": [
    "new.append(\"fahad manzoor\")"
   ]
  },
  {
   "cell_type": "code",
   "execution_count": null,
   "id": "febb9c2d",
   "metadata": {},
   "outputs": [],
   "source": [
    "new"
   ]
  },
  {
   "cell_type": "code",
   "execution_count": null,
   "id": "73186b82",
   "metadata": {},
   "outputs": [],
   "source": [
    "new.count(2)"
   ]
  },
  {
   "cell_type": "code",
   "execution_count": null,
   "id": "59cc3ba2",
   "metadata": {},
   "outputs": [],
   "source": [
    "cohort = [8, 20, 2022]\n",
    "\n",
    "new.append(cohort)"
   ]
  },
  {
   "cell_type": "code",
   "execution_count": null,
   "id": "e89a8a1f",
   "metadata": {},
   "outputs": [],
   "source": [
    "new"
   ]
  },
  {
   "cell_type": "code",
   "execution_count": null,
   "id": "f00648aa",
   "metadata": {},
   "outputs": [],
   "source": [
    "new.extend(cohort)"
   ]
  },
  {
   "cell_type": "code",
   "execution_count": null,
   "id": "8171706a",
   "metadata": {
    "scrolled": false
   },
   "outputs": [],
   "source": [
    "new"
   ]
  },
  {
   "cell_type": "code",
   "execution_count": null,
   "id": "fbb46dc8",
   "metadata": {},
   "outputs": [],
   "source": [
    "new.insert(2,\"fahad\")"
   ]
  },
  {
   "cell_type": "code",
   "execution_count": null,
   "id": "e7d4e2a3",
   "metadata": {},
   "outputs": [],
   "source": [
    "new"
   ]
  },
  {
   "cell_type": "code",
   "execution_count": null,
   "id": "3c723860",
   "metadata": {},
   "outputs": [],
   "source": [
    "new.pop(-8)"
   ]
  },
  {
   "cell_type": "code",
   "execution_count": null,
   "id": "4e2f8cfc",
   "metadata": {},
   "outputs": [],
   "source": [
    "new.reverse()"
   ]
  },
  {
   "cell_type": "code",
   "execution_count": null,
   "id": "281fd8fd",
   "metadata": {},
   "outputs": [],
   "source": [
    "new"
   ]
  },
  {
   "cell_type": "code",
   "execution_count": null,
   "id": "2bc41024",
   "metadata": {},
   "outputs": [],
   "source": [
    "new.remove(2)"
   ]
  },
  {
   "cell_type": "code",
   "execution_count": null,
   "id": "fbe2a0c8",
   "metadata": {},
   "outputs": [],
   "source": [
    "print(new)"
   ]
  },
  {
   "cell_type": "code",
   "execution_count": null,
   "id": "d4deab4d",
   "metadata": {},
   "outputs": [],
   "source": [
    "l = [ 'fahad',\"manzoor hussain\", \"ali\",'hammad']"
   ]
  },
  {
   "cell_type": "code",
   "execution_count": null,
   "id": "a5ffe2f4",
   "metadata": {
    "scrolled": true
   },
   "outputs": [],
   "source": [
    "# sort ma tarteeb sa ajta ha num ya kuch b ho to \n",
    "l.sort()"
   ]
  },
  {
   "cell_type": "code",
   "execution_count": null,
   "id": "995b4363",
   "metadata": {},
   "outputs": [],
   "source": [
    "l"
   ]
  },
  {
   "cell_type": "code",
   "execution_count": null,
   "id": "31152bdb",
   "metadata": {},
   "outputs": [],
   "source": []
  },
  {
   "cell_type": "code",
   "execution_count": null,
   "id": "e5b55de4",
   "metadata": {},
   "outputs": [],
   "source": []
  },
  {
   "cell_type": "markdown",
   "id": "0bdfc70d",
   "metadata": {},
   "source": [
    "# Tasks 1"
   ]
  },
  {
   "cell_type": "code",
   "execution_count": null,
   "id": "0c6239f5",
   "metadata": {},
   "outputs": [],
   "source": [
    " lst1 = [1, 2, 3, 4, ['a', 'b', [3,4], 'c'], 5, [[['ab', 'bc', 'cd'], ['df', 'gh'], 7.5 ]], 6, 7, 8]"
   ]
  },
  {
   "cell_type": "code",
   "execution_count": null,
   "id": "5611b28b",
   "metadata": {},
   "outputs": [],
   "source": [
    "lst1"
   ]
  },
  {
   "cell_type": "code",
   "execution_count": null,
   "id": "67705c16",
   "metadata": {},
   "outputs": [],
   "source": [
    "lst1[6]"
   ]
  },
  {
   "cell_type": "code",
   "execution_count": null,
   "id": "2939c376",
   "metadata": {},
   "outputs": [],
   "source": [
    "lst1[6][0]"
   ]
  },
  {
   "cell_type": "code",
   "execution_count": null,
   "id": "8f29cf81",
   "metadata": {},
   "outputs": [],
   "source": [
    "lst1[6][0][0]"
   ]
  },
  {
   "cell_type": "code",
   "execution_count": null,
   "id": "fd542f2b",
   "metadata": {
    "scrolled": true
   },
   "outputs": [],
   "source": [
    "lst1[6][0][0][1]"
   ]
  },
  {
   "cell_type": "markdown",
   "id": "3cf046b9",
   "metadata": {},
   "source": [
    "# Tasks 2"
   ]
  },
  {
   "cell_type": "code",
   "execution_count": null,
   "id": "09514588",
   "metadata": {},
   "outputs": [],
   "source": [
    "lst2 = [1, 2, 3, 4, 5]\n",
    "lst3 = [\"a\", \"b\", \"c\", \"d\", \"e\"]\n",
    "lst4 = [True, False, True, False, True]"
   ]
  },
  {
   "cell_type": "code",
   "execution_count": null,
   "id": "a1509cca",
   "metadata": {},
   "outputs": [],
   "source": [
    "lst4.insert(2, lst3)"
   ]
  },
  {
   "cell_type": "code",
   "execution_count": null,
   "id": "57c9cac5",
   "metadata": {},
   "outputs": [],
   "source": [
    "lst4"
   ]
  },
  {
   "cell_type": "code",
   "execution_count": null,
   "id": "185a9356",
   "metadata": {},
   "outputs": [],
   "source": [
    "lst2.insert(0, lst4)"
   ]
  },
  {
   "cell_type": "code",
   "execution_count": null,
   "id": "d67ce329",
   "metadata": {},
   "outputs": [],
   "source": [
    "lst2"
   ]
  },
  {
   "cell_type": "markdown",
   "id": "7e4b7614",
   "metadata": {},
   "source": [
    "# Task 3"
   ]
  },
  {
   "cell_type": "code",
   "execution_count": null,
   "id": "1fc748e8",
   "metadata": {},
   "outputs": [],
   "source": [
    "lst2[0][2]"
   ]
  },
  {
   "cell_type": "code",
   "execution_count": null,
   "id": "5d882e49",
   "metadata": {},
   "outputs": [],
   "source": [
    "var = lst2[0].pop(2)"
   ]
  },
  {
   "cell_type": "code",
   "execution_count": null,
   "id": "c7d9c3ee",
   "metadata": {},
   "outputs": [],
   "source": [
    "var"
   ]
  },
  {
   "cell_type": "code",
   "execution_count": null,
   "id": "9a1e0498",
   "metadata": {},
   "outputs": [],
   "source": [
    "print(var * 10)"
   ]
  },
  {
   "cell_type": "markdown",
   "id": "b7f939c5",
   "metadata": {},
   "source": [
    "# Tuple"
   ]
  },
  {
   "cell_type": "markdown",
   "id": "16e966c7",
   "metadata": {},
   "source": [
    "- ordered collection of element\n",
    "- enclosed in () round brakets/paranthesis\n",
    "- Different kind of element can be stored\n",
    "- once element are stored you can not change them (unmutatable)"
   ]
  },
  {
   "cell_type": "code",
   "execution_count": 68,
   "id": "403ae13f",
   "metadata": {},
   "outputs": [],
   "source": [
    "tup = (\"fahad\", 123 , [1,2,3], True)"
   ]
  },
  {
   "cell_type": "code",
   "execution_count": 69,
   "id": "e7542daa",
   "metadata": {},
   "outputs": [
    {
     "data": {
      "text/plain": [
       "tuple"
      ]
     },
     "execution_count": 69,
     "metadata": {},
     "output_type": "execute_result"
    }
   ],
   "source": [
    "type(tup)"
   ]
  },
  {
   "cell_type": "code",
   "execution_count": 80,
   "id": "eb33f4dd",
   "metadata": {},
   "outputs": [
    {
     "data": {
      "text/plain": [
       "4"
      ]
     },
     "execution_count": 80,
     "metadata": {},
     "output_type": "execute_result"
    }
   ],
   "source": [
    "len(tup)"
   ]
  },
  {
   "cell_type": "code",
   "execution_count": 70,
   "id": "e9d5a255",
   "metadata": {},
   "outputs": [
    {
     "data": {
      "text/plain": [
       "[1, 2, 3]"
      ]
     },
     "execution_count": 70,
     "metadata": {},
     "output_type": "execute_result"
    }
   ],
   "source": [
    "tup[2]"
   ]
  },
  {
   "cell_type": "code",
   "execution_count": 72,
   "id": "1c2893da",
   "metadata": {},
   "outputs": [
    {
     "data": {
      "text/plain": [
       "2"
      ]
     },
     "execution_count": 72,
     "metadata": {},
     "output_type": "execute_result"
    }
   ],
   "source": [
    "tup[2][1]"
   ]
  },
  {
   "cell_type": "code",
   "execution_count": 73,
   "id": "cd72999a",
   "metadata": {},
   "outputs": [
    {
     "data": {
      "text/plain": [
       "1"
      ]
     },
     "execution_count": 73,
     "metadata": {},
     "output_type": "execute_result"
    }
   ],
   "source": [
    "tup.count(123)"
   ]
  },
  {
   "cell_type": "code",
   "execution_count": 74,
   "id": "f5c85953",
   "metadata": {},
   "outputs": [
    {
     "data": {
      "text/plain": [
       "2"
      ]
     },
     "execution_count": 74,
     "metadata": {},
     "output_type": "execute_result"
    }
   ],
   "source": [
    "tup.index([1,2,3])"
   ]
  },
  {
   "cell_type": "code",
   "execution_count": 75,
   "id": "cfe4616b",
   "metadata": {},
   "outputs": [],
   "source": [
    "tup1 = (12,15,23,54,34,43,12,8)"
   ]
  },
  {
   "cell_type": "code",
   "execution_count": 76,
   "id": "b59a2e40",
   "metadata": {},
   "outputs": [
    {
     "data": {
      "text/plain": [
       "8"
      ]
     },
     "execution_count": 76,
     "metadata": {},
     "output_type": "execute_result"
    }
   ],
   "source": [
    "min(tup1)"
   ]
  },
  {
   "cell_type": "code",
   "execution_count": 77,
   "id": "24dbb393",
   "metadata": {},
   "outputs": [
    {
     "data": {
      "text/plain": [
       "54"
      ]
     },
     "execution_count": 77,
     "metadata": {},
     "output_type": "execute_result"
    }
   ],
   "source": [
    "max(tup1)"
   ]
  },
  {
   "cell_type": "code",
   "execution_count": 78,
   "id": "fca2e191",
   "metadata": {},
   "outputs": [
    {
     "data": {
      "text/plain": [
       "('fahad', 123, [1, 2, 3], True, 12, 15, 23, 54, 34, 43, 12, 8)"
      ]
     },
     "execution_count": 78,
     "metadata": {},
     "output_type": "execute_result"
    }
   ],
   "source": [
    "tup + tup1"
   ]
  },
  {
   "cell_type": "code",
   "execution_count": 82,
   "id": "1fedd3fc",
   "metadata": {},
   "outputs": [
    {
     "data": {
      "text/plain": [
       "(12, 15, 23, 54, 34, 43, 12, 8, 12, 15, 23, 54, 34, 43, 12, 8)"
      ]
     },
     "execution_count": 82,
     "metadata": {},
     "output_type": "execute_result"
    }
   ],
   "source": [
    "tup1 *2 "
   ]
  },
  {
   "cell_type": "code",
   "execution_count": null,
   "id": "496efa3e",
   "metadata": {},
   "outputs": [],
   "source": []
  },
  {
   "cell_type": "markdown",
   "id": "ea994e24",
   "metadata": {},
   "source": [
    "---"
   ]
  },
  {
   "cell_type": "markdown",
   "id": "6503d61a",
   "metadata": {},
   "source": [
    "# For Loops"
   ]
  },
  {
   "cell_type": "code",
   "execution_count": null,
   "id": "1777fa71",
   "metadata": {},
   "outputs": [],
   "source": [
    "for i in range(6):\n",
    "    print(i)"
   ]
  },
  {
   "cell_type": "code",
   "execution_count": null,
   "id": "ea28a422",
   "metadata": {},
   "outputs": [],
   "source": [
    "for i in lst3:\n",
    "    print(i)"
   ]
  },
  {
   "cell_type": "code",
   "execution_count": null,
   "id": "7df0c4de",
   "metadata": {},
   "outputs": [],
   "source": [
    "lst1 = [1,2,3,4,5,6,7,8,9,10]\n",
    "lst2 = []\n",
    "\n",
    "for i in lst1:\n",
    "    if(i % 2) == 0:\n",
    "        lst2.append(i)\n",
    "        lst1.remove(i)\n",
    "    \n",
    "print(lst1)\n",
    "print('-----------')\n",
    "print(lst2)"
   ]
  },
  {
   "cell_type": "markdown",
   "id": "e70b4fed",
   "metadata": {},
   "source": [
    "# While Loop"
   ]
  },
  {
   "cell_type": "code",
   "execution_count": null,
   "id": "c881607d",
   "metadata": {},
   "outputs": [],
   "source": [
    "i = 0\n",
    "\n",
    "while(i < 10):\n",
    "    print(i)\n",
    "    i += 1"
   ]
  },
  {
   "cell_type": "code",
   "execution_count": null,
   "id": "9c6e601b",
   "metadata": {},
   "outputs": [],
   "source": [
    "lst3 = []\n",
    "i = 0\n",
    "\n",
    "while(i < 10):\n",
    "    lst3.append(i)\n",
    "    i+= 1\n",
    "print(lst3)    "
   ]
  },
  {
   "cell_type": "markdown",
   "id": "546b4fba",
   "metadata": {},
   "source": [
    "### While loop with break statement"
   ]
  },
  {
   "cell_type": "code",
   "execution_count": null,
   "id": "211180a5",
   "metadata": {},
   "outputs": [],
   "source": [
    "name = 'fahad'\n",
    "data = []\n",
    "\n",
    "while(True):\n",
    "    name2 = str(input(\"enter name 2: \"))\n",
    "    if(name == name2):\n",
    "        break\n",
    "    else:\n",
    "        data.append(name2)"
   ]
  },
  {
   "cell_type": "code",
   "execution_count": null,
   "id": "08e3e5ac",
   "metadata": {},
   "outputs": [],
   "source": [
    "data"
   ]
  },
  {
   "cell_type": "code",
   "execution_count": null,
   "id": "14ccc025",
   "metadata": {},
   "outputs": [],
   "source": [
    "data = []\n",
    "naming = 'ABC'\n",
    "\n",
    "while(True):\n",
    "    name2 = str(input(\"enter name 2: \"))\n",
    "    if(naming == name2):\n",
    "        continue\n",
    "    else:\n",
    "        data.append(name2)\n",
    "    \n",
    "    "
   ]
  },
  {
   "cell_type": "markdown",
   "id": "ce1854ea",
   "metadata": {},
   "source": [
    "# Dictionary"
   ]
  },
  {
   "cell_type": "code",
   "execution_count": 91,
   "id": "31e1bcb2",
   "metadata": {},
   "outputs": [],
   "source": [
    "dic = {\"samosa\" : 30,'raita': 20, \"pakora\" : 100, 'salad': 50, 'chickenrolls': 30}"
   ]
  },
  {
   "cell_type": "code",
   "execution_count": 92,
   "id": "9c6b4a65",
   "metadata": {},
   "outputs": [
    {
     "data": {
      "text/plain": [
       "{'samosa': 30, 'raita': 20, 'pakora': 100, 'salad': 50, 'chickenrolls': 30}"
      ]
     },
     "execution_count": 92,
     "metadata": {},
     "output_type": "execute_result"
    }
   ],
   "source": [
    "dic"
   ]
  },
  {
   "cell_type": "code",
   "execution_count": 93,
   "id": "af47790b",
   "metadata": {},
   "outputs": [
    {
     "data": {
      "text/plain": [
       "dict"
      ]
     },
     "execution_count": 93,
     "metadata": {},
     "output_type": "execute_result"
    }
   ],
   "source": [
    "type(dic)"
   ]
  },
  {
   "cell_type": "code",
   "execution_count": 94,
   "id": "39b60602",
   "metadata": {},
   "outputs": [
    {
     "data": {
      "text/plain": [
       "dict_keys(['samosa', 'raita', 'pakora', 'salad', 'chickenrolls'])"
      ]
     },
     "execution_count": 94,
     "metadata": {},
     "output_type": "execute_result"
    }
   ],
   "source": [
    "# extract data\n",
    "dic.keys()"
   ]
  },
  {
   "cell_type": "code",
   "execution_count": 95,
   "id": "613dc6af",
   "metadata": {},
   "outputs": [
    {
     "data": {
      "text/plain": [
       "dict_values([30, 20, 100, 50, 30])"
      ]
     },
     "execution_count": 95,
     "metadata": {},
     "output_type": "execute_result"
    }
   ],
   "source": [
    "dic.values()"
   ]
  },
  {
   "cell_type": "code",
   "execution_count": 98,
   "id": "c6e2b1e7",
   "metadata": {},
   "outputs": [],
   "source": [
    "# method 1 update\n",
    "dic.update({'Tikki': 50})"
   ]
  },
  {
   "cell_type": "code",
   "execution_count": 99,
   "id": "5984a51c",
   "metadata": {
    "scrolled": true
   },
   "outputs": [
    {
     "data": {
      "text/plain": [
       "{'samosa': 30,\n",
       " 'raita': 20,\n",
       " 'pakora': 100,\n",
       " 'salad': 50,\n",
       " 'chickenrolls': 30,\n",
       " 'Tikki': 50}"
      ]
     },
     "execution_count": 99,
     "metadata": {},
     "output_type": "execute_result"
    }
   ],
   "source": [
    "dic"
   ]
  },
  {
   "cell_type": "code",
   "execution_count": 100,
   "id": "89a6506a",
   "metadata": {},
   "outputs": [],
   "source": [
    "# method 2 update\n",
    "\n",
    "dic['nankhatai']=120"
   ]
  },
  {
   "cell_type": "code",
   "execution_count": 101,
   "id": "592afe03",
   "metadata": {},
   "outputs": [
    {
     "data": {
      "text/plain": [
       "{'samosa': 30,\n",
       " 'raita': 20,\n",
       " 'pakora': 100,\n",
       " 'salad': 50,\n",
       " 'chickenrolls': 30,\n",
       " 'Tikki': 50,\n",
       " 'nankhatai': 120}"
      ]
     },
     "execution_count": 101,
     "metadata": {},
     "output_type": "execute_result"
    }
   ],
   "source": [
    "dic"
   ]
  },
  {
   "cell_type": "code",
   "execution_count": 102,
   "id": "e77dbf31",
   "metadata": {},
   "outputs": [],
   "source": [
    "# update the values\n",
    "dic['Tikki']=70"
   ]
  },
  {
   "cell_type": "code",
   "execution_count": 103,
   "id": "01e5a746",
   "metadata": {
    "scrolled": true
   },
   "outputs": [
    {
     "data": {
      "text/plain": [
       "{'samosa': 30,\n",
       " 'raita': 20,\n",
       " 'pakora': 100,\n",
       " 'salad': 50,\n",
       " 'chickenrolls': 30,\n",
       " 'Tikki': 70,\n",
       " 'nankhatai': 120}"
      ]
     },
     "execution_count": 103,
     "metadata": {},
     "output_type": "execute_result"
    }
   ],
   "source": [
    "dic"
   ]
  },
  {
   "cell_type": "code",
   "execution_count": 105,
   "id": "c81bd40a",
   "metadata": {},
   "outputs": [
    {
     "data": {
      "text/plain": [
       "{'dates': 50, 'badam': 100, 'chicken': 250}"
      ]
     },
     "execution_count": 105,
     "metadata": {},
     "output_type": "execute_result"
    }
   ],
   "source": [
    "dic2 = {'dates': 50, 'badam': 100, 'chicken': 250}\n",
    "dic2"
   ]
  },
  {
   "cell_type": "code",
   "execution_count": 109,
   "id": "21f2d339",
   "metadata": {},
   "outputs": [],
   "source": [
    "# concatinate \n",
    "dic.update(dic2)"
   ]
  },
  {
   "cell_type": "code",
   "execution_count": 108,
   "id": "2629740a",
   "metadata": {
    "scrolled": true
   },
   "outputs": [
    {
     "data": {
      "text/plain": [
       "{'samosa': 30,\n",
       " 'raita': 20,\n",
       " 'pakora': 100,\n",
       " 'salad': 50,\n",
       " 'chickenrolls': 30,\n",
       " 'Tikki': 70,\n",
       " 'nankhatai': 120,\n",
       " 'dates': 50,\n",
       " 'badam': 100,\n",
       " 'chicken': 250}"
      ]
     },
     "execution_count": 108,
     "metadata": {},
     "output_type": "execute_result"
    }
   ],
   "source": [
    "dic"
   ]
  },
  {
   "cell_type": "markdown",
   "id": "82688cfc",
   "metadata": {},
   "source": [
    "# Sets\n",
    "- unordered and unindexed\n",
    "- curly brackets are used {}\n",
    "- No dublicated allowed"
   ]
  },
  {
   "cell_type": "code",
   "execution_count": 111,
   "id": "dd24e4b5",
   "metadata": {},
   "outputs": [
    {
     "data": {
      "text/plain": [
       "{1, 2, 3, 4, 'ammar', 'codanics', 'faisalabad'}"
      ]
     },
     "execution_count": 111,
     "metadata": {},
     "output_type": "execute_result"
    }
   ],
   "source": [
    "# sets ma boolean operator nh ata ha \n",
    "s1 = {1,2,3,4,'ammar', 'codanics', 'faisalabad', True}\n",
    "s1"
   ]
  },
  {
   "cell_type": "code",
   "execution_count": 113,
   "id": "266184aa",
   "metadata": {},
   "outputs": [
    {
     "data": {
      "text/plain": [
       "{1, 2, 3, 4, 'ammar', 'codanics', 'faisalabad'}"
      ]
     },
     "execution_count": 113,
     "metadata": {},
     "output_type": "execute_result"
    }
   ],
   "source": [
    "# sets ma dublicate value b nh hota ha \n",
    "s1.add('ammar')\n",
    "s1"
   ]
  },
  {
   "cell_type": "code",
   "execution_count": 114,
   "id": "4a7f0be2",
   "metadata": {
    "scrolled": true
   },
   "outputs": [
    {
     "data": {
      "text/plain": [
       "{1, 2, 3, 4, 'ammar', 'codanics', 'faisalabad'}"
      ]
     },
     "execution_count": 114,
     "metadata": {},
     "output_type": "execute_result"
    }
   ],
   "source": [
    "s1.union()"
   ]
  },
  {
   "cell_type": "code",
   "execution_count": null,
   "id": "04604e6b",
   "metadata": {},
   "outputs": [],
   "source": []
  },
  {
   "cell_type": "code",
   "execution_count": null,
   "id": "11d7533f",
   "metadata": {},
   "outputs": [],
   "source": []
  },
  {
   "cell_type": "code",
   "execution_count": null,
   "id": "49f7f678",
   "metadata": {},
   "outputs": [],
   "source": []
  },
  {
   "cell_type": "code",
   "execution_count": null,
   "id": "f26d3cf9",
   "metadata": {},
   "outputs": [],
   "source": []
  },
  {
   "cell_type": "code",
   "execution_count": null,
   "id": "1990b24e",
   "metadata": {},
   "outputs": [],
   "source": []
  },
  {
   "cell_type": "markdown",
   "id": "7e7a8b0e",
   "metadata": {},
   "source": [
    "# Task"
   ]
  },
  {
   "cell_type": "code",
   "execution_count": null,
   "id": "460ec09d",
   "metadata": {},
   "outputs": [],
   "source": [
    "dic = {'ABC-DEF-001' : 'fahad', 'ABC-DEF-002': 'saad', 'ABC-DEF-003': 'hammad','ABC-DEF-004': 'billi'}"
   ]
  },
  {
   "cell_type": "code",
   "execution_count": null,
   "id": "5f74d284",
   "metadata": {},
   "outputs": [],
   "source": [
    "dic"
   ]
  },
  {
   "cell_type": "code",
   "execution_count": null,
   "id": "5ed04d34",
   "metadata": {},
   "outputs": [],
   "source": [
    "for i in dic.keys():\n",
    "    print(i)\n",
    "    \n",
    "print('----------------')\n",
    "\n",
    "for i in dic.values():\n",
    "    print(i)\n",
    "    \n",
    "print('----------------')\n",
    "\n",
    "for i in dic.items():\n",
    "    print(i)"
   ]
  },
  {
   "cell_type": "code",
   "execution_count": null,
   "id": "030af837",
   "metadata": {},
   "outputs": [],
   "source": [
    "name = 'fahad'\n",
    "lst = []\n",
    "\n",
    "for i in dic.values():\n",
    "    if(i == name):\n",
    "        lst.append(i)\n",
    "        "
   ]
  },
  {
   "cell_type": "code",
   "execution_count": null,
   "id": "54ce6821",
   "metadata": {},
   "outputs": [],
   "source": [
    "lst"
   ]
  },
  {
   "cell_type": "code",
   "execution_count": null,
   "id": "9e0e83e7",
   "metadata": {},
   "outputs": [],
   "source": [
    "length = len(lst[0])\n",
    "\n",
    "if (length % 2 == 0):\n",
    "    print(\"even Value\")\n",
    "else:\n",
    "    print(\"odd value\")"
   ]
  },
  {
   "cell_type": "markdown",
   "id": "bbb0081d",
   "metadata": {},
   "source": [
    "# *Method of Dictionary*"
   ]
  },
  {
   "cell_type": "code",
   "execution_count": null,
   "id": "82d75aa4",
   "metadata": {},
   "outputs": [],
   "source": [
    "# pop\n",
    "a = dic.pop('ABC-DEF-002')"
   ]
  },
  {
   "cell_type": "code",
   "execution_count": null,
   "id": "fa1d34ea",
   "metadata": {},
   "outputs": [],
   "source": [
    "print(a)"
   ]
  },
  {
   "cell_type": "code",
   "execution_count": null,
   "id": "9f55f825",
   "metadata": {},
   "outputs": [],
   "source": [
    "print(dic)"
   ]
  },
  {
   "cell_type": "code",
   "execution_count": null,
   "id": "e5349adb",
   "metadata": {},
   "outputs": [],
   "source": [
    "# pop item\n",
    "b = dic.popitem()"
   ]
  },
  {
   "cell_type": "code",
   "execution_count": null,
   "id": "ca4cc40f",
   "metadata": {},
   "outputs": [],
   "source": [
    "b"
   ]
  },
  {
   "cell_type": "code",
   "execution_count": null,
   "id": "ea41ba7d",
   "metadata": {},
   "outputs": [],
   "source": [
    "dic"
   ]
  },
  {
   "cell_type": "code",
   "execution_count": null,
   "id": "4cd35d52",
   "metadata": {},
   "outputs": [],
   "source": [
    "# set defult\n",
    "dic.setdefault('ABC-DEF-005')"
   ]
  },
  {
   "cell_type": "code",
   "execution_count": null,
   "id": "026a77b3",
   "metadata": {},
   "outputs": [],
   "source": [
    "dic"
   ]
  },
  {
   "cell_type": "code",
   "execution_count": null,
   "id": "881041bc",
   "metadata": {},
   "outputs": [],
   "source": []
  },
  {
   "cell_type": "code",
   "execution_count": null,
   "id": "1450e2aa",
   "metadata": {},
   "outputs": [],
   "source": [
    "# update\n",
    "dic.update({\"ABC-DEF-006\": \"Tahir\"})\n"
   ]
  },
  {
   "cell_type": "code",
   "execution_count": null,
   "id": "f8f9276a",
   "metadata": {
    "scrolled": true
   },
   "outputs": [],
   "source": [
    "dic"
   ]
  },
  {
   "cell_type": "code",
   "execution_count": null,
   "id": "7d351850",
   "metadata": {},
   "outputs": [],
   "source": [
    "dic['ABC-DEF-001']"
   ]
  },
  {
   "cell_type": "code",
   "execution_count": null,
   "id": "d147b9f4",
   "metadata": {},
   "outputs": [],
   "source": [
    "dicti = {'Name' : ['fahad','saad','hamad','billi','mama'],\n",
    "        'Age': [20,22,17,13,43],\n",
    "        'Score' : [88,98,89,78,31],\n",
    "        'Result': ['pass','pass','pass','pass','fail']}"
   ]
  },
  {
   "cell_type": "code",
   "execution_count": null,
   "id": "fbefe45c",
   "metadata": {},
   "outputs": [],
   "source": [
    "dicti"
   ]
  },
  {
   "cell_type": "code",
   "execution_count": null,
   "id": "d11e352d",
   "metadata": {},
   "outputs": [],
   "source": [
    "print( dicti['Name'][0],  dicti['Age'][0] , dicti['Score'][0], dicti[\"Result\"][0])"
   ]
  },
  {
   "cell_type": "code",
   "execution_count": null,
   "id": "397acd31",
   "metadata": {
    "scrolled": true
   },
   "outputs": [],
   "source": [
    "print( dicti['Name'][1],  dicti['Age'][1] , dicti['Score'][1], dicti[\"Result\"][1])"
   ]
  },
  {
   "cell_type": "code",
   "execution_count": null,
   "id": "f4f0cf8e",
   "metadata": {},
   "outputs": [],
   "source": [
    "print( dicti['Name'][2],  dicti['Age'][2] , dicti['Score'][2], dicti[\"Result\"][2])"
   ]
  },
  {
   "cell_type": "code",
   "execution_count": null,
   "id": "79d2c43c",
   "metadata": {
    "scrolled": true
   },
   "outputs": [],
   "source": [
    "print( dicti['Name'][3],  dicti['Age'][3] , dicti['Score'][3], dicti[\"Result\"][3])"
   ]
  },
  {
   "cell_type": "code",
   "execution_count": null,
   "id": "cefe4973",
   "metadata": {},
   "outputs": [],
   "source": [
    "print( dicti['Name'][0],  dicti['Age'][0] , dicti['Score'][0], dicti[\"Result\"][0])\n",
    "print( dicti['Name'][1],  dicti['Age'][1] , dicti['Score'][1], dicti[\"Result\"][1])\n",
    "print( dicti['Name'][2],  dicti['Age'][2] , dicti['Score'][2], dicti[\"Result\"][2])\n",
    "print( dicti['Name'][3],  dicti['Age'][3] , dicti['Score'][3], dicti[\"Result\"][3])"
   ]
  },
  {
   "cell_type": "code",
   "execution_count": null,
   "id": "4036edf3",
   "metadata": {},
   "outputs": [],
   "source": [
    "d = {'integer': 25, 'nested': {'first': 1, 'second': 2, 'third': [True,False, True,('I','am','not')]}, 'boolean' : 76   }"
   ]
  },
  {
   "cell_type": "code",
   "execution_count": null,
   "id": "ff1d2c67",
   "metadata": {},
   "outputs": [],
   "source": [
    "print(d['nested']['third'][3][1])"
   ]
  },
  {
   "cell_type": "markdown",
   "id": "1c2b6e06",
   "metadata": {},
   "source": [
    "# *Nested Statement and Looping*"
   ]
  },
  {
   "cell_type": "code",
   "execution_count": null,
   "id": "1bcc4a23",
   "metadata": {},
   "outputs": [],
   "source": [
    "a = 8\n",
    "\n",
    "if(a % 2 == 0):\n",
    "    print(\"Even\")\n",
    "else:\n",
    "    print(\"odd\")"
   ]
  },
  {
   "cell_type": "code",
   "execution_count": null,
   "id": "ec1cd1fe",
   "metadata": {},
   "outputs": [],
   "source": [
    "# nested Loop\n",
    "\n",
    "for i in range(2,3):\n",
    "    for j in range(1,11):\n",
    "        print(str(i)+ \" x \" + str(j) + ' = ' + str(i *j))"
   ]
  },
  {
   "cell_type": "code",
   "execution_count": null,
   "id": "45db1455",
   "metadata": {},
   "outputs": [],
   "source": [
    "for i in range(5):\n",
    "    print(i)\n",
    "    for j "
   ]
  },
  {
   "cell_type": "markdown",
   "id": "122b6923",
   "metadata": {},
   "source": [
    "# User Define Function"
   ]
  },
  {
   "cell_type": "code",
   "execution_count": null,
   "id": "34ff536a",
   "metadata": {},
   "outputs": [],
   "source": [
    "def cnic_issue():\n",
    "    age= int(input(\"enter your age: \"))\n",
    "    if age >=18:\n",
    "        print(\"Your agr eligible in cnic\")\n",
    "    else:\n",
    "        print(\"you are not eligible in cinc\")"
   ]
  },
  {
   "cell_type": "code",
   "execution_count": null,
   "id": "62875a97",
   "metadata": {},
   "outputs": [],
   "source": [
    "cnic_issue()"
   ]
  },
  {
   "cell_type": "code",
   "execution_count": null,
   "id": "1ddc932c",
   "metadata": {},
   "outputs": [],
   "source": [
    "def print_codanics(text):\n",
    "    \n",
    "    print(text )\n",
    "    print(text)\n",
    "    print(text)\n",
    "    print(text)\n",
    "    \n",
    "print_codanics(\"We are learning python with baba ammar in codanics yt channel \")"
   ]
  },
  {
   "cell_type": "code",
   "execution_count": null,
   "id": "591ab4d4",
   "metadata": {},
   "outputs": [],
   "source": [
    "def age_calculator(age):\n",
    "    if (age == 5):\n",
    "        print(\"Hammad can join the school\")\n",
    "    elif age > 5  and age < 18:\n",
    "        print(\"Hammad should go to higher school\")\n",
    "    elif age >=18 and age <23:\n",
    "        print(\"Hammad should go to collage\")\n",
    "    elif age >= 23 and age <40:\n",
    "        print(\"Hammad go to university\")\n",
    "    elif age>= 40:\n",
    "        print(\"Hammad go to job \")\n",
    "    else:\n",
    "        print(\"Hammad is still a baby\")\n",
    "        "
   ]
  },
  {
   "cell_type": "code",
   "execution_count": null,
   "id": "e4225d97",
   "metadata": {},
   "outputs": [],
   "source": [
    "age_calculator(45)"
   ]
  },
  {
   "cell_type": "code",
   "execution_count": null,
   "id": "6a081a2d",
   "metadata": {},
   "outputs": [],
   "source": [
    "def future_age(age):\n",
    "    new_age= age + 20\n",
    "    return new_age\n"
   ]
  },
  {
   "cell_type": "code",
   "execution_count": null,
   "id": "8dca14c2",
   "metadata": {},
   "outputs": [],
   "source": [
    "future_age(18)\n"
   ]
  },
  {
   "cell_type": "markdown",
   "id": "aef34048",
   "metadata": {},
   "source": [
    "# Function without Parameters"
   ]
  },
  {
   "cell_type": "code",
   "execution_count": null,
   "id": "484c3da0",
   "metadata": {},
   "outputs": [],
   "source": [
    "def take_some_input():\n",
    "    var = input(\"Enter a name\")\n",
    "    return var"
   ]
  },
  {
   "cell_type": "code",
   "execution_count": null,
   "id": "f8b5d71e",
   "metadata": {},
   "outputs": [],
   "source": [
    "take_some_input()"
   ]
  },
  {
   "cell_type": "code",
   "execution_count": null,
   "id": "7f0b73c4",
   "metadata": {},
   "outputs": [],
   "source": [
    "def take_some_input1():\n",
    "    var = input(\"Enter a name\")\n",
    "    length = len(var)\n",
    "    return length"
   ]
  },
  {
   "cell_type": "code",
   "execution_count": null,
   "id": "9a59cae2",
   "metadata": {},
   "outputs": [],
   "source": [
    "a = take_some_input1()"
   ]
  },
  {
   "cell_type": "code",
   "execution_count": null,
   "id": "296db33d",
   "metadata": {},
   "outputs": [],
   "source": [
    "a"
   ]
  },
  {
   "cell_type": "code",
   "execution_count": null,
   "id": "ffb2862d",
   "metadata": {},
   "outputs": [],
   "source": [
    "def un(**params):\n",
    "    print(params)\n",
    "    print(params['name'])"
   ]
  },
  {
   "cell_type": "code",
   "execution_count": null,
   "id": "5f4d0df6",
   "metadata": {},
   "outputs": [],
   "source": [
    "un(name = 'ali', age = 30)\n"
   ]
  },
  {
   "cell_type": "markdown",
   "id": "16a53d5d",
   "metadata": {},
   "source": [
    "---"
   ]
  },
  {
   "cell_type": "markdown",
   "id": "2ae17661",
   "metadata": {},
   "source": [
    "# Error handling method\n",
    "\n",
    "jb hama ya check krna ho ka hamara code ma ya wla code ha ya nh to us ka liya try and except method use ho ga "
   ]
  },
  {
   "cell_type": "code",
   "execution_count": 10,
   "id": "59d5a9c3",
   "metadata": {},
   "outputs": [
    {
     "name": "stdout",
     "output_type": "stream",
     "text": [
      "nh ha ya wala variable is code ma \n"
     ]
    }
   ],
   "source": [
    "try:\n",
    "    print(lst)\n",
    "except:\n",
    "    print(\"nh ha ya wala variable is code ma \")"
   ]
  },
  {
   "cell_type": "markdown",
   "id": "8fe3832d",
   "metadata": {},
   "source": [
    "# Trouble shooting"
   ]
  },
  {
   "cell_type": "code",
   "execution_count": 23,
   "id": "d1a6d765",
   "metadata": {},
   "outputs": [
    {
     "ename": "SyntaxError",
     "evalue": "invalid syntax (983238094.py, line 1)",
     "output_type": "error",
     "traceback": [
      "\u001b[1;36m  Input \u001b[1;32mIn [23]\u001b[1;36m\u001b[0m\n\u001b[1;33m    print(we are learning)\u001b[0m\n\u001b[1;37m             ^\u001b[0m\n\u001b[1;31mSyntaxError\u001b[0m\u001b[1;31m:\u001b[0m invalid syntax\n"
     ]
    }
   ],
   "source": [
    "# syntex error ka matlb hota ha ham na apna code ma khi coma ya cotation mark ya pranthesis nh lagai ha \n",
    "\n",
    "print(we are learning)"
   ]
  },
  {
   "cell_type": "code",
   "execution_count": 29,
   "id": "e2f185c4",
   "metadata": {},
   "outputs": [
    {
     "ename": "ZeroDivisionError",
     "evalue": "division by zero",
     "output_type": "error",
     "traceback": [
      "\u001b[1;31m---------------------------------------------------------------------------\u001b[0m",
      "\u001b[1;31mZeroDivisionError\u001b[0m                         Traceback (most recent call last)",
      "Input \u001b[1;32mIn [29]\u001b[0m, in \u001b[0;36m<cell line: 3>\u001b[1;34m()\u001b[0m\n\u001b[0;32m      1\u001b[0m \u001b[38;5;66;03m# run time error\u001b[39;00m\n\u001b[1;32m----> 3\u001b[0m \u001b[38;5;28mprint\u001b[39m(\u001b[38;5;241;43m25\u001b[39;49m\u001b[38;5;241;43m/\u001b[39;49m\u001b[38;5;241;43m0\u001b[39;49m)\n",
      "\u001b[1;31mZeroDivisionError\u001b[0m: division by zero"
     ]
    }
   ],
   "source": [
    "# run time error\n",
    "\n",
    "print(25/0)"
   ]
  },
  {
   "cell_type": "code",
   "execution_count": 27,
   "id": "9c86bcea",
   "metadata": {},
   "outputs": [
    {
     "name": "stdout",
     "output_type": "stream",
     "text": [
      "hello name\n"
     ]
    }
   ],
   "source": [
    "# samantic error\n",
    "\n",
    "name = 'fahad'\n",
    "print('hello name')"
   ]
  },
  {
   "cell_type": "code",
   "execution_count": null,
   "id": "806d4d13",
   "metadata": {},
   "outputs": [],
   "source": []
  },
  {
   "cell_type": "code",
   "execution_count": null,
   "id": "a016ea73",
   "metadata": {},
   "outputs": [],
   "source": []
  },
  {
   "cell_type": "markdown",
   "id": "cfd65530",
   "metadata": {},
   "source": [
    "# Functions"
   ]
  },
  {
   "cell_type": "code",
   "execution_count": 1,
   "id": "e7fac869",
   "metadata": {},
   "outputs": [
    {
     "name": "stdout",
     "output_type": "stream",
     "text": [
      "we are learning python with baba ammar \n",
      "we are learning python with baba ammar \n",
      "we are learning python with baba ammar \n"
     ]
    }
   ],
   "source": [
    "# no 1 method\n",
    "def print_codanics():\n",
    "    text = 'we are learning python with baba ammar '\n",
    "    print(text)\n",
    "    print(text)\n",
    "    print(text)\n",
    "print_codanics()"
   ]
  },
  {
   "cell_type": "code",
   "execution_count": 2,
   "id": "26fb3233",
   "metadata": {},
   "outputs": [
    {
     "name": "stdout",
     "output_type": "stream",
     "text": [
      "we are learning python with codanics\n",
      "we are learning python with codanics\n",
      "we are learning python with codanics\n"
     ]
    }
   ],
   "source": [
    "# no 2 method\n",
    "\n",
    "def codanics(text):\n",
    "    print(text)\n",
    "    print(text)\n",
    "    print(text)\n",
    "codanics('we are learning python with codanics')"
   ]
  },
  {
   "cell_type": "code",
   "execution_count": 5,
   "id": "c73fcf07",
   "metadata": {},
   "outputs": [
    {
     "name": "stdout",
     "output_type": "stream",
     "text": [
      "hammad can join the school\n"
     ]
    }
   ],
   "source": [
    "# defining function with if , elif, and else statement\n",
    "\n",
    "def school_calculator(age):\n",
    "    if age==5:\n",
    "        print(\"hammad can join the school\")\n",
    "    elif age>5:\n",
    "        print('hammad should go to higher school')\n",
    "    else:\n",
    "        print('hammad is still a baby')\n",
    "school_calculator(5)"
   ]
  },
  {
   "cell_type": "code",
   "execution_count": 10,
   "id": "9a4e4d6b",
   "metadata": {},
   "outputs": [
    {
     "data": {
      "text/plain": [
       "38"
      ]
     },
     "execution_count": 10,
     "metadata": {},
     "output_type": "execute_result"
    }
   ],
   "source": [
    "# difing a function of future\n",
    "\n",
    "def future_age(age):\n",
    "    new_age = age+20\n",
    "    return new_age\n",
    "\n",
    "future_age(18)\n"
   ]
  },
  {
   "cell_type": "markdown",
   "id": "5fb807f3",
   "metadata": {},
   "source": [
    "# import libraries"
   ]
  },
  {
   "cell_type": "code",
   "execution_count": 22,
   "id": "b05601de",
   "metadata": {},
   "outputs": [
    {
     "name": "stdout",
     "output_type": "stream",
     "text": [
      "the value of pi is  3.141592653589793\n"
     ]
    }
   ],
   "source": [
    "import math\n",
    "print('the value of pi is ',math.pi)"
   ]
  },
  {
   "cell_type": "code",
   "execution_count": 15,
   "id": "4fb19cbf",
   "metadata": {},
   "outputs": [
    {
     "name": "stdout",
     "output_type": "stream",
     "text": [
      "350\n"
     ]
    }
   ],
   "source": [
    "import statistics\n",
    "x = [150,250,350,450,550]\n",
    "print(statistics.mean(x))"
   ]
  },
  {
   "cell_type": "markdown",
   "id": "95a504ae",
   "metadata": {},
   "source": [
    "# Indexing"
   ]
  },
  {
   "cell_type": "code",
   "execution_count": 30,
   "id": "d47dcc2d",
   "metadata": {},
   "outputs": [
    {
     "data": {
      "text/plain": [
       "'samosa pakora'"
      ]
     },
     "execution_count": 30,
     "metadata": {},
     "output_type": "execute_result"
    }
   ],
   "source": [
    "# make a string\n",
    "a = 'samosa pakora'\n",
    "a"
   ]
  },
  {
   "cell_type": "code",
   "execution_count": 31,
   "id": "7f4e988d",
   "metadata": {},
   "outputs": [
    {
     "data": {
      "text/plain": [
       "'s'"
      ]
     },
     "execution_count": 31,
     "metadata": {},
     "output_type": "execute_result"
    }
   ],
   "source": [
    "a[0]"
   ]
  },
  {
   "cell_type": "code",
   "execution_count": 32,
   "id": "38a1728a",
   "metadata": {},
   "outputs": [
    {
     "data": {
      "text/plain": [
       "'a'"
      ]
     },
     "execution_count": 32,
     "metadata": {},
     "output_type": "execute_result"
    }
   ],
   "source": [
    "a[1]"
   ]
  },
  {
   "cell_type": "code",
   "execution_count": 38,
   "id": "3e83f382",
   "metadata": {},
   "outputs": [
    {
     "data": {
      "text/plain": [
       "'samosa'"
      ]
     },
     "execution_count": 38,
     "metadata": {},
     "output_type": "execute_result"
    }
   ],
   "source": [
    "a[0:6]"
   ]
  },
  {
   "cell_type": "code",
   "execution_count": 40,
   "id": "f781cdf8",
   "metadata": {},
   "outputs": [
    {
     "data": {
      "text/plain": [
       "13"
      ]
     },
     "execution_count": 40,
     "metadata": {},
     "output_type": "execute_result"
    }
   ],
   "source": [
    "# length \n",
    "len(a)"
   ]
  },
  {
   "cell_type": "markdown",
   "id": "2a7a766b",
   "metadata": {},
   "source": [
    "# string method"
   ]
  },
  {
   "cell_type": "code",
   "execution_count": 42,
   "id": "927611ab",
   "metadata": {},
   "outputs": [
    {
     "data": {
      "text/plain": [
       "'biryani'"
      ]
     },
     "execution_count": 42,
     "metadata": {},
     "output_type": "execute_result"
    }
   ],
   "source": [
    "food = 'biryani'\n",
    "food"
   ]
  },
  {
   "cell_type": "code",
   "execution_count": 43,
   "id": "ea8ba60d",
   "metadata": {},
   "outputs": [
    {
     "data": {
      "text/plain": [
       "7"
      ]
     },
     "execution_count": 43,
     "metadata": {},
     "output_type": "execute_result"
    }
   ],
   "source": [
    "len(food)"
   ]
  },
  {
   "cell_type": "code",
   "execution_count": 44,
   "id": "b3944d40",
   "metadata": {},
   "outputs": [
    {
     "data": {
      "text/plain": [
       "'Biryani'"
      ]
     },
     "execution_count": 44,
     "metadata": {},
     "output_type": "execute_result"
    }
   ],
   "source": [
    "# capitalize every element\n",
    "food.capitalize()"
   ]
  },
  {
   "cell_type": "code",
   "execution_count": 49,
   "id": "cac19891",
   "metadata": {},
   "outputs": [
    {
     "data": {
      "text/plain": [
       "1"
      ]
     },
     "execution_count": 49,
     "metadata": {},
     "output_type": "execute_result"
    }
   ],
   "source": [
    "# count\n",
    "food.count('b')"
   ]
  },
  {
   "cell_type": "code",
   "execution_count": 50,
   "id": "062e8502",
   "metadata": {},
   "outputs": [
    {
     "data": {
      "text/plain": [
       "'BIRYANI'"
      ]
     },
     "execution_count": 50,
     "metadata": {},
     "output_type": "execute_result"
    }
   ],
   "source": [
    "# upper case\n",
    "food.upper()"
   ]
  },
  {
   "cell_type": "code",
   "execution_count": 51,
   "id": "54f896d5",
   "metadata": {},
   "outputs": [
    {
     "data": {
      "text/plain": [
       "'biryani'"
      ]
     },
     "execution_count": 51,
     "metadata": {},
     "output_type": "execute_result"
    }
   ],
   "source": [
    "# lower case\n",
    "food.lower()"
   ]
  },
  {
   "cell_type": "code",
   "execution_count": 53,
   "id": "536831b2",
   "metadata": {},
   "outputs": [
    {
     "data": {
      "text/plain": [
       "'shiryani'"
      ]
     },
     "execution_count": 53,
     "metadata": {},
     "output_type": "execute_result"
    }
   ],
   "source": [
    "food.replace('b','sh')"
   ]
  },
  {
   "cell_type": "code",
   "execution_count": 55,
   "id": "532fcae2",
   "metadata": {},
   "outputs": [
    {
     "data": {
      "text/plain": [
       "'my name is fahad manzoor'"
      ]
     },
     "execution_count": 55,
     "metadata": {},
     "output_type": "execute_result"
    }
   ],
   "source": [
    "# counting a specific alphabet in a string\n",
    "name = 'my name is fahad manzoor'\n",
    "name"
   ]
  },
  {
   "cell_type": "code",
   "execution_count": 57,
   "id": "6f83edd3",
   "metadata": {},
   "outputs": [
    {
     "data": {
      "text/plain": [
       "4"
      ]
     },
     "execution_count": 57,
     "metadata": {},
     "output_type": "execute_result"
    }
   ],
   "source": [
    "name.count(\"a\")"
   ]
  },
  {
   "cell_type": "markdown",
   "id": "e6f9c377",
   "metadata": {},
   "source": [
    "## finding an index number in string`"
   ]
  },
  {
   "cell_type": "code",
   "execution_count": 58,
   "id": "4a8b6228",
   "metadata": {},
   "outputs": [
    {
     "data": {
      "text/plain": [
       "'my name is fahad manzoor'"
      ]
     },
     "execution_count": 58,
     "metadata": {},
     "output_type": "execute_result"
    }
   ],
   "source": [
    "name = 'my name is fahad manzoor'\n",
    "name"
   ]
  },
  {
   "cell_type": "code",
   "execution_count": 62,
   "id": "ce0247d4",
   "metadata": {},
   "outputs": [
    {
     "data": {
      "text/plain": [
       "23"
      ]
     },
     "execution_count": 62,
     "metadata": {},
     "output_type": "execute_result"
    }
   ],
   "source": [
    "name.find(\"r\")"
   ]
  },
  {
   "cell_type": "markdown",
   "id": "466ef23b",
   "metadata": {},
   "source": [
    "### how to split a string"
   ]
  },
  {
   "cell_type": "code",
   "execution_count": 65,
   "id": "1d2766d5",
   "metadata": {},
   "outputs": [
    {
     "data": {
      "text/plain": [
       "' i love samosa, pakora, raita, biryani and karahi'"
      ]
     },
     "execution_count": 65,
     "metadata": {},
     "output_type": "execute_result"
    }
   ],
   "source": [
    "food = \" i love samosa, pakora, raita, biryani and karahi\"\n",
    "food"
   ]
  },
  {
   "cell_type": "code",
   "execution_count": 67,
   "id": "a900037d",
   "metadata": {},
   "outputs": [
    {
     "data": {
      "text/plain": [
       "[' i love samosa, pakora, raita, biryani and karahi']"
      ]
     },
     "execution_count": 67,
     "metadata": {},
     "output_type": "execute_result"
    }
   ],
   "source": [
    "food.split(\"\")"
   ]
  },
  {
   "cell_type": "markdown",
   "id": "0ad18071",
   "metadata": {},
   "source": [
    "# Body mass index (BMI)"
   ]
  },
  {
   "cell_type": "code",
   "execution_count": 8,
   "id": "6e17e246",
   "metadata": {
    "scrolled": false
   },
   "outputs": [
    {
     "name": "stdout",
     "output_type": "stream",
     "text": [
      "enter your height :1.74\n"
     ]
    }
   ],
   "source": [
    "height = (input(\"enter your height :\"))\n"
   ]
  },
  {
   "cell_type": "code",
   "execution_count": 9,
   "id": "f05e277d",
   "metadata": {},
   "outputs": [],
   "source": [
    "height = float(height)"
   ]
  },
  {
   "cell_type": "code",
   "execution_count": 10,
   "id": "ecc14eb0",
   "metadata": {
    "scrolled": true
   },
   "outputs": [
    {
     "name": "stdout",
     "output_type": "stream",
     "text": [
      "enter your weight: 68\n"
     ]
    }
   ],
   "source": [
    "weight = input('enter your weight: ')"
   ]
  },
  {
   "cell_type": "code",
   "execution_count": 11,
   "id": "50322c45",
   "metadata": {},
   "outputs": [],
   "source": [
    "weight = float(weight)"
   ]
  },
  {
   "cell_type": "code",
   "execution_count": 12,
   "id": "6e1ddc56",
   "metadata": {},
   "outputs": [
    {
     "name": "stdout",
     "output_type": "stream",
     "text": [
      "what is your name: fahad\n"
     ]
    }
   ],
   "source": [
    "name = input('what is your name: ')"
   ]
  },
  {
   "cell_type": "code",
   "execution_count": 15,
   "id": "5330d87b",
   "metadata": {},
   "outputs": [
    {
     "name": "stdout",
     "output_type": "stream",
     "text": [
      "My name is fahad and my BMI is 22.460034350640772\n"
     ]
    }
   ],
   "source": [
    "bmi = weight / height**2\n",
    "print('My name is',name,'and my BMI is',bmi)"
   ]
  },
  {
   "cell_type": "code",
   "execution_count": null,
   "id": "c5319a50",
   "metadata": {},
   "outputs": [],
   "source": []
  },
  {
   "cell_type": "code",
   "execution_count": null,
   "id": "a2ce5f83",
   "metadata": {},
   "outputs": [],
   "source": []
  },
  {
   "cell_type": "code",
   "execution_count": null,
   "id": "39d99ca8",
   "metadata": {},
   "outputs": [],
   "source": []
  },
  {
   "cell_type": "code",
   "execution_count": null,
   "id": "3e930686",
   "metadata": {},
   "outputs": [],
   "source": []
  },
  {
   "cell_type": "code",
   "execution_count": null,
   "id": "442e0f72",
   "metadata": {},
   "outputs": [],
   "source": []
  },
  {
   "cell_type": "code",
   "execution_count": null,
   "id": "010ebd6c",
   "metadata": {},
   "outputs": [],
   "source": []
  },
  {
   "cell_type": "code",
   "execution_count": null,
   "id": "d918fcc1",
   "metadata": {},
   "outputs": [],
   "source": []
  },
  {
   "cell_type": "code",
   "execution_count": null,
   "id": "1ee94156",
   "metadata": {},
   "outputs": [],
   "source": []
  },
  {
   "cell_type": "code",
   "execution_count": null,
   "id": "fbe4ca0a",
   "metadata": {},
   "outputs": [],
   "source": []
  },
  {
   "cell_type": "code",
   "execution_count": null,
   "id": "bef6f403",
   "metadata": {},
   "outputs": [],
   "source": []
  },
  {
   "cell_type": "code",
   "execution_count": null,
   "id": "01882e78",
   "metadata": {},
   "outputs": [],
   "source": []
  },
  {
   "cell_type": "code",
   "execution_count": null,
   "id": "b14e1fa2",
   "metadata": {},
   "outputs": [],
   "source": []
  },
  {
   "cell_type": "code",
   "execution_count": null,
   "id": "a718357c",
   "metadata": {},
   "outputs": [],
   "source": []
  },
  {
   "cell_type": "code",
   "execution_count": null,
   "id": "9d1771ec",
   "metadata": {},
   "outputs": [],
   "source": []
  },
  {
   "cell_type": "code",
   "execution_count": null,
   "id": "f3359c3a",
   "metadata": {},
   "outputs": [],
   "source": []
  }
 ],
 "metadata": {
  "kernelspec": {
   "display_name": "Python 3 (ipykernel)",
   "language": "python",
   "name": "python3"
  },
  "language_info": {
   "codemirror_mode": {
    "name": "ipython",
    "version": 3
   },
   "file_extension": ".py",
   "mimetype": "text/x-python",
   "name": "python",
   "nbconvert_exporter": "python",
   "pygments_lexer": "ipython3",
   "version": "3.9.12"
  }
 },
 "nbformat": 4,
 "nbformat_minor": 5
}
